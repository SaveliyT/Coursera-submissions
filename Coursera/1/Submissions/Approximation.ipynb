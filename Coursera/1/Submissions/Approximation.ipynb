{
 "metadata": {
  "name": "",
  "signature": "sha256:3981d70a14a4bcbd8014ce68589892f75eec7b3356271ba0958f56e8469a6736"
 },
 "nbformat": 3,
 "nbformat_minor": 0,
 "worksheets": [
  {
   "cells": [
    {
     "cell_type": "code",
     "collapsed": false,
     "input": [
      "import scipy\n",
      "import numpy as np\n",
      "from math import sin \n",
      "from math import exp"
     ],
     "language": "python",
     "metadata": {},
     "outputs": [],
     "prompt_number": 70
    },
    {
     "cell_type": "code",
     "collapsed": false,
     "input": [
      "def f(x):\n",
      "    y = sin(x/5.0)*exp(x/10.0) + 5.0*exp(-x/2.0) \n",
      "    return y\n"
     ],
     "language": "python",
     "metadata": {},
     "outputs": [],
     "prompt_number": 71
    },
    {
     "cell_type": "code",
     "collapsed": false,
     "input": [],
     "language": "python",
     "metadata": {},
     "outputs": [
      {
       "output_type": "stream",
       "stream": "stdout",
       "text": [
        "[3.252216865271419, 3.128353994472113, 3.012067143378875, 2.902999513100624, 2.800811180666543, 2.7051782592223566, 2.615792099119626, 2.532358527910862, 2.4545971273603557, 2.382240545672994, 2.315033843231158, 2.2527338702133894, 2.195108674547976, 2.141936938730242, 2.093007444104239, 2.0481185612779567, 2.007077765406241, 1.9697011751375206, 1.9358131140793269, 1.9052456936935815, 1.877838416585936, 1.853437799204098, 1.8318970130082928, 1.8130755432228618, 1.7968388643216162, 1.7830581314410332, 1.7716098869548658, 1.7623757814812482, 1.7552423086290903, 1.7501005528245133, 1.7468459495903677, 1.745378057682602, 1.7456003425164714, 1.747419970343361, 1.7507476126654336, 1.7554972604004604, 1.7615860473330907, 1.7689340824115731, 1.777464290470557, 1.7871022609811882]\n",
        "3.25221686527\n",
        "0.635221419579\n"
       ]
      }
     ],
     "prompt_number": 94
    },
    {
     "cell_type": "code",
     "collapsed": false,
     "input": [
      "x = [1,4,10,15]\n",
      "A = np.zeros((len(x), len(x)))\n",
      "\n",
      "\n",
      "for i in range(0,len(x)):\n",
      "    for j in range(0,len(x)):\n",
      "        A[i, j] = x[i]**j\n",
      "        \n",
      "print A\n",
      "    "
     ],
     "language": "python",
     "metadata": {},
     "outputs": [
      {
       "output_type": "stream",
       "stream": "stdout",
       "text": [
        "[[  1.00000000e+00   1.00000000e+00   1.00000000e+00   1.00000000e+00]\n",
        " [  1.00000000e+00   4.00000000e+00   1.60000000e+01   6.40000000e+01]\n",
        " [  1.00000000e+00   1.00000000e+01   1.00000000e+02   1.00000000e+03]\n",
        " [  1.00000000e+00   1.50000000e+01   2.25000000e+02   3.37500000e+03]]\n"
       ]
      }
     ],
     "prompt_number": 148
    },
    {
     "cell_type": "code",
     "collapsed": false,
     "input": [
      "b = map(f, x)\n",
      "print b"
     ],
     "language": "python",
     "metadata": {},
     "outputs": [
      {
       "output_type": "stream",
       "stream": "stdout",
       "text": [
        "[3.252216865271419, 1.7468459495903677, 2.5054164070002463, 0.6352214195786656]\n"
       ]
      }
     ],
     "prompt_number": 149
    },
    {
     "cell_type": "code",
     "collapsed": false,
     "input": [
      "sol = np.linalg.solve(A, b)\n",
      "print sol"
     ],
     "language": "python",
     "metadata": {},
     "outputs": [
      {
       "output_type": "stream",
       "stream": "stdout",
       "text": [
        "[ 4.36264154 -1.29552587  0.19333685 -0.00823565]\n"
       ]
      }
     ],
     "prompt_number": 150
    },
    {
     "cell_type": "code",
     "collapsed": false,
     "input": [
      "%matplotlib inline"
     ],
     "language": "python",
     "metadata": {},
     "outputs": [],
     "prompt_number": 151
    },
    {
     "cell_type": "code",
     "collapsed": false,
     "input": [
      "from matplotlib import pylab as plot"
     ],
     "language": "python",
     "metadata": {},
     "outputs": [],
     "prompt_number": 152
    },
    {
     "cell_type": "code",
     "collapsed": false,
     "input": [
      "xplot = np.arange(1, 15, 0.1)\n",
      "yfunc = map(f, xplot)\n",
      "yapprox = map(fapprox, xplot)\n",
      "plot.plot(x, b, 'o', xplot, yfunc, '-', xplot, yapprox, '-')\n",
      "plot.show()"
     ],
     "language": "python",
     "metadata": {},
     "outputs": [
      {
       "metadata": {},
       "output_type": "display_data",
       "png": "[encoded data removed]",
       "text": [
        "<matplotlib.figure.Figure at 0x7f31648f2a50>"
       ]
      }
     ],
     "prompt_number": 153
    },
    {
     "cell_type": "code",
     "collapsed": false,
     "input": [
      "def fapprox(x):\n",
      "    y = 0\n",
      "    for i in np.arange(0,len(sol)):\n",
      "        y += sol[i]*x**i\n",
      "    return y"
     ],
     "language": "python",
     "metadata": {},
     "outputs": [],
     "prompt_number": 121
    },
    {
     "cell_type": "code",
     "collapsed": false,
     "input": [
      "print fapprox(1)"
     ],
     "language": "python",
     "metadata": {},
     "outputs": [
      {
       "output_type": "stream",
       "stream": "stdout",
       "text": [
        "3.43914511139\n",
        "3.25221686527\n",
        "3.25221686527\n"
       ]
      }
     ],
     "prompt_number": 119
    },
    {
     "cell_type": "code",
     "collapsed": false,
     "input": [
      "answer = [round(x, 2) for x in sol]"
     ],
     "language": "python",
     "metadata": {},
     "outputs": [],
     "prompt_number": 160
    },
    {
     "cell_type": "code",
     "collapsed": false,
     "input": [
      "print answer"
     ],
     "language": "python",
     "metadata": {},
     "outputs": [
      {
       "output_type": "stream",
       "stream": "stdout",
       "text": [
        "[4.36, -1.3, 0.19, -0.01]\n"
       ]
      }
     ],
     "prompt_number": 161
    },
    {
     "cell_type": "code",
     "collapsed": false,
     "input": [
      "file_ans = open('Submission2.txt', 'w')\n",
      "file_ans.write(' '.join(map(str, answer)))\n",
      "file_ans.close()"
     ],
     "language": "python",
     "metadata": {},
     "outputs": [],
     "prompt_number": 163
    },
    {
     "cell_type": "code",
     "collapsed": false,
     "input": [
      "!cat Submission2.txt"
     ],
     "language": "python",
     "metadata": {},
     "outputs": [
      {
       "output_type": "stream",
       "stream": "stdout",
       "text": [
        "4.36 -1.3 0.19 -0.01"
       ]
      }
     ],
     "prompt_number": 164
    },
    {
     "cell_type": "code",
     "collapsed": false,
     "input": [],
     "language": "python",
     "metadata": {},
     "outputs": []
    }
   ],
   "metadata": {}
  }
 ]
}